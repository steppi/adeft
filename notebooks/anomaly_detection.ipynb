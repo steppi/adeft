{
 "cells": [
  {
   "cell_type": "markdown",
   "metadata": {},
   "source": [
    "# Anomaly Detection\n",
    "\n",
    "The `AdeftAnomalyDetector` is an experimental class for detecting if there are texts being incorrectly grounded to a gene. The plan is to use a `OneClassSVM` trained on Entrez texts for a given gene. This can then be used to search for anomalous papers containing texts that have been grounded to that gene. If a paper is anomalous we have cause to believe the grounding is incorrect. Further work is needed to validate if this method is effective. This notebook demonstrates how to use the `AdeftAnomalyDetector` on a small set of example data."
   ]
  },
  {
   "cell_type": "markdown",
   "metadata": {},
   "source": [
    "First import required packages and load the data"
   ]
  },
  {
   "cell_type": "code",
   "execution_count": 1,
   "metadata": {},
   "outputs": [],
   "source": [
    "import json\n",
    "from adeft.modeling.investigate import AdeftAnomalyDetector\n",
    "\n",
    "\n",
    "with open('data/example_training_data.json') as f:\n",
    "    ir_data = json.load(f)"
   ]
  },
  {
   "cell_type": "markdown",
   "metadata": {},
   "source": [
    "`ir_data` is a dictionary with two keys, `'texts'` and `'labels'`."
   ]
  },
  {
   "cell_type": "code",
   "execution_count": 2,
   "metadata": {},
   "outputs": [],
   "source": [
    "texts, labels = ir_data['texts'], ir_data['labels']"
   ]
  },
  {
   "cell_type": "markdown",
   "metadata": {},
   "source": [
    "`texts` is a list of training texts and `labels` is a list of the corresponding labels"
   ]
  },
  {
   "cell_type": "markdown",
   "metadata": {},
   "source": [
    "We now split these up into texts referring to the insulin receptor and texts referring to some other expansion of IR"
   ]
  },
  {
   "cell_type": "code",
   "execution_count": 3,
   "metadata": {},
   "outputs": [],
   "source": [
    "gene_texts = [text for text, label in zip(texts, labels) if label == 'HGNC:6091']\n",
    "other_texts = [text for text, label in zip(texts, labels) if label != 'HGNC:6091']"
   ]
  },
  {
   "cell_type": "markdown",
   "metadata": {},
   "source": [
    "This dataset contains 101 texts where IR refers to insulin receptor and 399 texts where it refers to something else"
   ]
  },
  {
   "cell_type": "code",
   "execution_count": 4,
   "metadata": {},
   "outputs": [
    {
     "name": "stdout",
     "output_type": "stream",
     "text": [
      "101 399\n"
     ]
    }
   ],
   "source": [
    "print(len(gene_texts), len(other_texts))"
   ]
  },
  {
   "cell_type": "markdown",
   "metadata": {},
   "source": [
    "The we instantiate the anomaly detector. The first argument is the HGNC symbol for the gene of interest and the second argument is a list of synonyms. Here we use \"IR\" as the only synonym. **When we use the `AdeftAnomalyDetector` for real examples, the list of synonyms should be a filtered list of texts that are being grounded to the gene of interest.**"
   ]
  },
  {
   "cell_type": "code",
   "execution_count": 5,
   "metadata": {},
   "outputs": [],
   "source": [
    "anomaly_detector = AdeftAnomalyDetector('INSR', ['IR'])"
   ]
  },
  {
   "cell_type": "markdown",
   "metadata": {},
   "source": [
    "# Validation"
   ]
  },
  {
   "cell_type": "markdown",
   "metadata": {},
   "source": [
    "As with the `AdeftClassifier` we can use a `cv` method to perform a grid search. For now you'll have to enter a param_grid using the syntax for sklearn pipelines as shown below. In the future you will be able to use parameter names directly as keys. The parameter `nu` for the `OneClassSVM` is an upper bound on the fraction of training errors that can be made."
   ]
  },
  {
   "cell_type": "code",
   "execution_count": 6,
   "metadata": {},
   "outputs": [],
   "source": [
    "param_grid = {'tfidf__max_features': [10, 50, 100, 1000, 10000],\n",
    "             'tfidf__ngram_range': [(1, 1), (1, 2)],\n",
    "              'oc_svm__nu': [0.001, 0.01, 0.05, 0.1]}"
   ]
  },
  {
   "cell_type": "markdown",
   "metadata": {},
   "source": [
    "The cross validation scheme will divides `gene_texts` into folds in the typical fashion with each test fold being augmented with a random sample of texts from `other_texts`. The parameter `k` controls the number of non-gene texts to add to each test fold. The following examples use three fold cross validation and add 5, 10, 50, and 100 negative texts per fold. This is useful for seeing how results vary depending on the level of ambiguity of a term. "
   ]
  },
  {
   "cell_type": "code",
   "execution_count": 7,
   "metadata": {},
   "outputs": [
    {
     "name": "stdout",
     "output_type": "stream",
     "text": [
      "0.6923809523809524\n",
      "{'oc_svm__nu': 0.01, 'tfidf__max_features': 50, 'tfidf__ngram_range': (1, 2)}\n"
     ]
    }
   ],
   "source": [
    "anomaly_detector.cv(gene_texts, other_texts, param_grid, k=5, n_jobs=4, cv=5)\n",
    "grid_search1 = anomaly_detector.grid_search\n",
    "print(anomaly_detector.grid_search.best_score_)\n",
    "print(anomaly_detector.grid_search.best_params_)"
   ]
  },
  {
   "cell_type": "code",
   "execution_count": 8,
   "metadata": {},
   "outputs": [
    {
     "name": "stdout",
     "output_type": "stream",
     "text": [
      "0.6376190476190476\n",
      "{'oc_svm__nu': 0.01, 'tfidf__max_features': 100, 'tfidf__ngram_range': (1, 1)}\n"
     ]
    }
   ],
   "source": [
    "anomaly_detector.cv(gene_texts, other_texts, param_grid, k=10, n_jobs=4, cv=5)\n",
    "print(anomaly_detector.grid_search.best_score_)\n",
    "print(anomaly_detector.grid_search.best_params_)"
   ]
  },
  {
   "cell_type": "code",
   "execution_count": 9,
   "metadata": {},
   "outputs": [
    {
     "name": "stdout",
     "output_type": "stream",
     "text": [
      "0.6573333333333334\n",
      "{'oc_svm__nu': 0.05, 'tfidf__max_features': 100, 'tfidf__ngram_range': (1, 2)}\n"
     ]
    }
   ],
   "source": [
    "anomaly_detector.cv(gene_texts, other_texts, param_grid, k=50, n_jobs=4, cv=5)\n",
    "print(anomaly_detector.grid_search.best_score_)\n",
    "print(anomaly_detector.grid_search.best_params_)"
   ]
  },
  {
   "cell_type": "code",
   "execution_count": null,
   "metadata": {},
   "outputs": [],
   "source": [
    "anomaly_detector.cv(gene_texts, other_texts, param_grid, k=100, n_jobs=4, cv=5)\n",
    "print(anomaly_detector.grid_search.best_score_)\n",
    "print(anomaly_detector.grid_search.best_params_)"
   ]
  },
  {
   "cell_type": "markdown",
   "metadata": {},
   "source": [
    "The metric used is balanced accuracy. It is the average of the recall values for each class. As expected, this score does not vary with the number of anomalous examples in the test set."
   ]
  },
  {
   "cell_type": "markdown",
   "metadata": {},
   "source": [
    "# Training"
   ]
  },
  {
   "cell_type": "markdown",
   "metadata": {},
   "source": [
    "If there are no negative examples available, you can train on only the positive examples using the `train` method"
   ]
  },
  {
   "cell_type": "code",
   "execution_count": 56,
   "metadata": {},
   "outputs": [],
   "source": [
    "anomaly_detector.train(gene_texts, nu=0.05, max_features=100, ngram_range=(1, 2))"
   ]
  },
  {
   "cell_type": "markdown",
   "metadata": {},
   "source": [
    "Once trained, predictions can be made using the predict method. A prediction of 1.0 will be made for examples the classifier believes to be anomalous with a prediction of 0.0 being made for other examples"
   ]
  },
  {
   "cell_type": "code",
   "execution_count": 57,
   "metadata": {},
   "outputs": [],
   "source": [
    "preds1 = anomaly_detector.predict(gene_texts)"
   ]
  },
  {
   "cell_type": "code",
   "execution_count": 58,
   "metadata": {},
   "outputs": [],
   "source": [
    "preds2 = anomaly_detector.predict(other_texts)"
   ]
  },
  {
   "cell_type": "code",
   "execution_count": 59,
   "metadata": {},
   "outputs": [
    {
     "name": "stdout",
     "output_type": "stream",
     "text": [
      "33 of the 101 gene texts were predicted to be anomalous while 358 of the 399 other texts were predicted to be anomalous\n"
     ]
    }
   ],
   "source": [
    "print('%d of the %d gene texts were predicted to be anomalous while %d of the %d other texts were'\n",
    "      ' predicted to be anomalous' % (sum(preds1), len(gene_texts), sum(preds2), len(other_texts)))"
   ]
  }
 ],
 "metadata": {
  "kernelspec": {
   "display_name": "Python 3",
   "language": "python",
   "name": "python3"
  },
  "language_info": {
   "codemirror_mode": {
    "name": "ipython",
    "version": 3
   },
   "file_extension": ".py",
   "mimetype": "text/x-python",
   "name": "python",
   "nbconvert_exporter": "python",
   "pygments_lexer": "ipython3",
   "version": "3.7.4"
  }
 },
 "nbformat": 4,
 "nbformat_minor": 2
}
